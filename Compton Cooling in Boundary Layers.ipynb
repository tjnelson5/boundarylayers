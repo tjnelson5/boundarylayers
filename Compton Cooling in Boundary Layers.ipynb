{
 "cells": [
  {
   "cell_type": "code",
   "execution_count": 2,
   "metadata": {
    "collapsed": true
   },
   "outputs": [],
   "source": [
    "import numpy as np\n",
    "\n",
    "from webbink import radius"
   ]
  },
  {
   "cell_type": "markdown",
   "metadata": {},
   "source": [
    "## Calculating the ratio of bremsstrahlung to Compton cooling in a white dwarf boundary layer"
   ]
  },
  {
   "cell_type": "markdown",
   "metadata": {},
   "source": [
    "We have claimed in the past that accretion disk boundary layers may be cooled by ambient radiation.  The code below allows us to calculate this under various physical conditions.  If electon cooling via bremsstrahlung is more efficient that cooling via inverse Compton scattering, then the radiation from the boundary layer will reflect the post-shock temperature of the gas in some way.  However, if Compton cooling is more efficient, then the maximum energy of electrons in the boundary layer will be decreased, and we don't expect to see hard X-rays characteristic of the post shock region.\n"
   ]
  },
  {
   "cell_type": "markdown",
   "metadata": {},
   "source": [
    "Following Frank, King and Raine (2002), the ratio of bremsstrahlung to Compton lossed can be given by the equation:\n",
    "\n",
    "$$\\frac{t_{\\rm Comp}}{t_{\\rm cool}} = \\frac{7.5 \\times 10^{-5}N_{e}}{U_{\\rm rad}T_{e}^{0.5}}$$ where $N_{e}$ and $T_{e}$ are the electron density and temperature in the boundary layer, and $U_{\\rm rad}$ is the radiation energy density of the external radiation source that could be cooling the boundary layer (e.g. white dwarf surface, optically thick boundary layer)."
   ]
  },
  {
   "cell_type": "markdown",
   "metadata": {},
   "source": [
    "First, we'll set up some global variables that are needed in the various calculations below:\n"
   ]
  },
  {
   "cell_type": "code",
   "execution_count": 17,
   "metadata": {
    "collapsed": true
   },
   "outputs": [],
   "source": [
    "MSOL = 2e33 # mass of Sun, g\n",
    "MU = 0.63 #mean molecular weight\n",
    "MH = 1.67e-24 # mass of hydrogen, g\n",
    "G = 6.67e-8\n",
    "K = 1.38e-16 # Boltzmann Constant, erg/K\n",
    "KTOKEV = 8.6173e-8 # convert Kelvin to keV\n",
    "C = 2e10 # speed of light, cm/s\n",
    "MDOTGS = 6.34e+25 # convert mass accretion rate in msol/yr to g/s"
   ]
  },
  {
   "cell_type": "markdown",
   "metadata": {},
   "source": [
    "The maximum temperature $T_{e}$ of the post-shock flow is our key observable. We first want to calculate what this would be if the temperature is simply set by the gravitational potential of the white dwarf."
   ]
  },
  {
   "cell_type": "code",
   "execution_count": 15,
   "metadata": {
    "collapsed": false
   },
   "outputs": [
    {
     "name": "stdout",
     "output_type": "stream",
     "text": [
      "Shock temperature for 1.3 Msol white dwarf is 7.6e+08 K.\n",
      "Shock temperature for 1.3 Msol white dwarf is 65.1 keV.\n"
     ]
    }
   ],
   "source": [
    "def tshock(mwd, unit='K'):\n",
    "    '''Returns the shock temperature for the innermost Keplerian orbit of an\n",
    "    accretion disk around a white dwarf of mass mwd in solar units.\n",
    "    Units can be Kelvin ('K') or keV ('keV').'''\n",
    "    # mass in solar masses\n",
    "    rwd = radius(mwd)\n",
    "    mwdg = mwd * MSOL # mass of white dwarf in grams\n",
    "    tshock = 3.0 * MU * MH * G * mwdg / (16.0 * K * rwd)\n",
    "    if unit.lower() == 'k':\n",
    "        return tshock\n",
    "    elif unit.lower() == 'kev':\n",
    "        return tshock * KTOKEV\n",
    "    else:\n",
    "        print(\"Units must be Kelvin (K) or keV (keV).  Please check your units.\")\n",
    "        \n",
    "print(\"Shock temperature for 1.3 Msol white dwarf is {:03.1e} K.\".format(tshock(1.3, unit='K')))\n",
    "print(\"Shock temperature for 1.3 Msol white dwarf is {:03.1f} keV.\".format(tshock(1.3, unit='keV')))"
   ]
  },
  {
   "cell_type": "markdown",
   "metadata": {},
   "source": [
    "Next, we need a way to calculate the energy density of the radiation field, $U_{\\rm rad}$, that might cool the post shock region. This is agnostic about what the source of the radiation is: we just need a luminosity (which we'll calculate elsewhere).\n",
    "\n",
    "We assume that the source of radiation covers some fraction frad of the surface of a white dwarf of mass mwd (in solar units), so that\n",
    "$$U_{\\rm rad} = \\frac{L_{\\rm rad}}{4 \\pi R_{\\rm WD}^{2} c},$$ where $c$ is the speed of light."
   ]
  },
  {
   "cell_type": "code",
   "execution_count": 16,
   "metadata": {
    "collapsed": true
   },
   "outputs": [],
   "source": [
    "def urad(lrad, mwd, frad):\n",
    "    '''Returns the radiation energy density for a radiation source of \n",
    "    luminosity Lrad (in erg/s) assuming it covers a fraction frad of\n",
    "    the surface of a white dwarf of mass mwd.\n",
    "    Mass should be in solar units.'''\n",
    "    if frad <= 0 or frad > 1:\n",
    "        print(\"frad must be between 0 and 1. Please check and try again.\")\n",
    "    else:\n",
    "        rwd = radius(mwd)\n",
    "        urad = lrad / (4.0 * np.pi * rwd ** 2.0 * frad * C)\n",
    "        return urad"
   ]
  },
  {
   "cell_type": "markdown",
   "metadata": {},
   "source": [
    "The other key parameter in determining the cooling ratio is the electron density in the boundary layer. Assuming a constant mass accretion rate through the boundary layer, we can calculate this as \n",
    "$$N_{e} = \\frac{\\dot{M}}{4 \\pi R_{\\rm WD}^{2} \\mu m_{\\rm H} f_{\\rm acc} v_{\\rm acc}},$$ where $f_{\\rm acc}$ is the fraction of the white dwarf surface over which the accretion takes place, and $v_{\\rm acc}$ is the radial velocity with which material is moving through the boundary layer."
   ]
  },
  {
   "cell_type": "markdown",
   "metadata": {},
   "source": [
    "The accretion speed through the boundary layer is not well known. The innermost Keplerian velocity of the disk, $v_{\\rm Kep}$, is given by\n",
    "$$v_{\\rm Kep} = \\sqrt{\\frac{G M_{\\rm WD}}{R_{\\rm WD}}}.$$"
   ]
  },
  {
   "cell_type": "code",
   "execution_count": 18,
   "metadata": {
    "collapsed": true
   },
   "outputs": [],
   "source": [
    "def vkep(mwd):\n",
    "    rwd = radius(mwd)\n",
    "    mwdg = mwd * MSOL\n",
    "    vkep = (G * mwdg / rwd) ** 0.5\n",
    "    return vkep"
   ]
  },
  {
   "cell_type": "markdown",
   "metadata": {},
   "source": [
    "How much of this circular velocity gets transferred into radial velocity? Explore claims here.  For now, we assume that the accretion velocity, $v_{\\rm acc}$ is low, of order 10 km s$^{-1}$."
   ]
  },
  {
   "cell_type": "code",
   "execution_count": 19,
   "metadata": {
    "collapsed": true
   },
   "outputs": [],
   "source": [
    "vacc = 10e5"
   ]
  },
  {
   "cell_type": "markdown",
   "metadata": {},
   "source": [
    "What about $f_{\\rm acc}$, the fraction of the white dwarf surface over which the accretion takes place?  This depends on the assumed structure of the boundary layer, and whether it remains optically thick or thin.  Several approximations of this exist in the literature."
   ]
  },
  {
   "cell_type": "code",
   "execution_count": 20,
   "metadata": {
    "collapsed": true
   },
   "outputs": [],
   "source": [
    "def facc(mwd, mdot, mode=\"thick\"):\n",
    "    '''Returns an estimte of the accretion fraction facc for a thick or thin\n",
    "    boundary layer.  Facc is calculated as z/4r, where z is the scale height\n",
    "    of disk.  If mode = \"thick\", the disk scale height is assumed to be equal \n",
    "    to the disk scale height. If mode = \"thin\", use approximation of Tylenda\n",
    "    (1981).  See Patterson & Raymond, 1985 for details.'''\n",
    "    if mode.lower() == \"thick\":\n",
    "        z = (np.sqrt(radius(mwd)) ** 2.0 * \\\n",
    "            (6.96e-4 * (mwd/0.7) ** -0.85 * (mdot * MDOTGS / 1e18) ** -0.22 + \\\n",
    "            (7.29e-4 * (mwd/0.7) ** 0.8 * (mdot * MDOTGS / 1e18))))\n",
    "        facc = z / 4 / radius(mwd)\n",
    "        return facc\n",
    "    elif mode.lower() == \"thin\":\n",
    "        z = 3.85e8 * (mwd/0.7) ** 0.1 * (mdot * MDOTGS / 1e15) ** -0.5\n",
    "        facc = z / 4 / radius(mwd)\n",
    "        return facc\n",
    "    else:\n",
    "        print(\"mode must be thick or thin\")"
   ]
  },
  {
   "cell_type": "code",
   "execution_count": null,
   "metadata": {
    "collapsed": true
   },
   "outputs": [],
   "source": []
  }
 ],
 "metadata": {
  "anaconda-cloud": {},
  "kernelspec": {
   "display_name": "Python [ds30]",
   "language": "python",
   "name": "Python [ds30]"
  },
  "language_info": {
   "codemirror_mode": {
    "name": "ipython",
    "version": 2
   },
   "file_extension": ".py",
   "mimetype": "text/x-python",
   "name": "python",
   "nbconvert_exporter": "python",
   "pygments_lexer": "ipython2",
   "version": "2.7.11"
  }
 },
 "nbformat": 4,
 "nbformat_minor": 0
}
