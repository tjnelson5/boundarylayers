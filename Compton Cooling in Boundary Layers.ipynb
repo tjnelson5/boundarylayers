{
 "cells": [
  {
   "cell_type": "code",
   "execution_count": 46,
   "metadata": {
    "collapsed": true
   },
   "outputs": [],
   "source": [
    "import numpy as np\n",
    "\n",
    "from webbink import radius"
   ]
  },
  {
   "cell_type": "markdown",
   "metadata": {},
   "source": [
    "## Calculating the ratio of bremsstrahlung to Compton cooling in a white dwarf boundary layer"
   ]
  },
  {
   "cell_type": "markdown",
   "metadata": {},
   "source": [
    "We have claimed in the past that accretion disk boundary layers may be cooled by ambient radiation.  The code below allows us to calculate this under various physical conditions.  If electon cooling via bremsstrahlung is more efficient that cooling via inverse Compton scattering, then the radiation from the boundary layer will reflect the post-shock temperature of the gas in some way.  However, if Compton cooling is more efficient, then the maximum energy of electrons in the boundary layer will be decreased, and we don't expect to see hard X-rays characteristic of the post shock region.\n"
   ]
  },
  {
   "cell_type": "markdown",
   "metadata": {},
   "source": [
    "Following Frank, King and Raine (2002), the ratio of bremsstrahlung to Compton lossed can be given by the equation:\n",
    "\n",
    "$$\\frac{t_{\\rm Comp}}{t_{\\rm cool}} = \\frac{7.5 \\times 10^{-5}N_{e}}{U_{\\rm rad}T_{e}^{0.5}}$$ \n",
    "\n",
    "where $N_{e}$ and $T_{e}$ are the electron density and temperature in the boundary layer, and $U_{\\rm rad}$ is the radiation energy density of the external radiation source that could be cooling the boundary layer (e.g. white dwarf surface, optically thick boundary layer)."
   ]
  },
  {
   "cell_type": "code",
   "execution_count": 173,
   "metadata": {
    "collapsed": true
   },
   "outputs": [],
   "source": [
    "def coolratio(nebl, urad, tshock):\n",
    "    ratio = 7.5e-5 * nebl / (urad * tshock**0.5)\n",
    "    return ratio"
   ]
  },
  {
   "cell_type": "markdown",
   "metadata": {},
   "source": [
    "First, we'll set up some global variables that are needed in the various calculations below:\n"
   ]
  },
  {
   "cell_type": "code",
   "execution_count": 174,
   "metadata": {
    "collapsed": true
   },
   "outputs": [],
   "source": [
    "MSOL = 2e33 # mass of Sun, g\n",
    "MU = 0.63 #mean molecular weight\n",
    "MH = 1.67e-24 # mass of hydrogen, g\n",
    "G = 6.67e-8\n",
    "K = 1.38e-16 # Boltzmann Constant, erg/K\n",
    "KTOKEV = 8.6173e-8 # convert Kelvin to keV\n",
    "C = 2e10 # speed of light, cm/s\n",
    "MDOTGS = 6.34e+25 # convert mass accretion rate in msol/yr to g/s"
   ]
  },
  {
   "cell_type": "markdown",
   "metadata": {},
   "source": [
    "The maximum temperature $T_{e}$ of the post-shock flow is our key observable. We first want to calculate what this would be if the temperature is simply set by the gravitational potential of the white dwarf."
   ]
  },
  {
   "cell_type": "code",
   "execution_count": 175,
   "metadata": {
    "collapsed": false
   },
   "outputs": [],
   "source": [
    "def tshock(mwd, unit='K'):\n",
    "    '''Returns the shock temperature for the innermost Keplerian orbit of an\n",
    "    accretion disk around a white dwarf of mass mwd in solar units.\n",
    "    Units can be Kelvin ('K') or keV ('keV').'''\n",
    "    # mass in solar masses\n",
    "    rwd = radius(mwd)\n",
    "    mwdg = mwd * MSOL # mass of white dwarf in grams\n",
    "    tshock = 3.0 * MU * MH * G * mwdg / (16.0 * K * rwd)\n",
    "    if unit.lower() == 'k':\n",
    "        return tshock\n",
    "    elif unit.lower() == 'kev':\n",
    "        return tshock * KTOKEV\n",
    "    else:\n",
    "        print(\"Units must be Kelvin (K) or keV (keV).  Please check your units.\")"
   ]
  },
  {
   "cell_type": "markdown",
   "metadata": {},
   "source": [
    "Next, we need a way to calculate the energy density of the radiation field, $U_{\\rm rad}$, that might cool the post shock region. This is agnostic about what the source of the radiation is: we just need a luminosity (which we'll calculate elsewhere).\n",
    "\n",
    "We assume that the source of radiation covers some fraction frad of the surface of a white dwarf of mass mwd (in solar units), so that\n",
    "\n",
    "$$U_{\\rm rad} = \\frac{L_{\\rm rad}}{4 \\pi R_{\\rm WD}^{2} c},$$ where $c$ is the speed of light."
   ]
  },
  {
   "cell_type": "code",
   "execution_count": 176,
   "metadata": {
    "collapsed": true
   },
   "outputs": [],
   "source": [
    "def urad(lrad, mwd, frad):\n",
    "    '''Returns the radiation energy density for a radiation source of \n",
    "    luminosity Lrad (in erg/s) assuming it covers a fraction frad of\n",
    "    the surface of a white dwarf of mass mwd.\n",
    "    Mass should be in solar units.'''\n",
    "    if frad <= 0 or frad > 1:\n",
    "        print(\"frad must be between 0 and 1. Please check and try again.\")\n",
    "    else:\n",
    "        rwd = radius(mwd)\n",
    "        urad = lrad / (4.0 * np.pi * rwd ** 2.0 * frad * C)\n",
    "        return urad"
   ]
  },
  {
   "cell_type": "markdown",
   "metadata": {},
   "source": [
    "The other key parameter in determining the cooling ratio is the electron density in the boundary layer. Assuming a constant mass accretion rate through the boundary layer, we can calculate this as \n",
    "$$N_{e} = \\frac{\\dot{M}}{4 \\pi R_{\\rm WD}^{2} \\mu m_{\\rm H} f_{\\rm acc} v_{\\rm acc}},$$ where $f_{\\rm acc}$ is the fraction of the white dwarf surface over which the accretion takes place, and $v_{\\rm acc}$ is the radial velocity with which material is moving through the boundary layer."
   ]
  },
  {
   "cell_type": "code",
   "execution_count": 177,
   "metadata": {
    "collapsed": true
   },
   "outputs": [],
   "source": [
    "def nebl(mwd, mdot, facc, vacc):\n",
    "    '''Returns the density in the boundary layer for a given accretion \n",
    "    rate mdot, white dwarf mass mwd, accretion velocity vacc (the radial\n",
    "    velocity of material through the boundary layer) and surface area\n",
    "    fraction facc over which material accretes on to the white dwarf.\n",
    "    Mdot should be in solar masses per year, mwd in solar units, and\n",
    "    vacc in km/s.  Facc should be between >0 and <= 1.'''\n",
    "    if facc <=0 or facc > 1:\n",
    "        print(\"facc should be between >0 and <= 1. Please check and try again.\")\n",
    "    else:\n",
    "        rwd = radius(mwd)\n",
    "        mdot = mdot * MDOTGS\n",
    "        vacc = vacc * 1e5\n",
    "        nebl = mdot / (4 * np.pi * MU * MH * rwd**2 * facc * vacc)\n",
    "        print(\"The electron density is {:03.1e} cm^-3.\".format(nebl))\n",
    "        return nebl"
   ]
  },
  {
   "cell_type": "markdown",
   "metadata": {},
   "source": [
    "The accretion speed through the boundary layer is not well known. The innermost Keplerian velocity of the disk, $v_{\\rm Kep}$, is given by\n",
    "\n",
    "$$v_{\\rm Kep} = \\sqrt{\\frac{G M_{\\rm WD}}{R_{\\rm WD}}}.$$"
   ]
  },
  {
   "cell_type": "code",
   "execution_count": 178,
   "metadata": {
    "collapsed": true
   },
   "outputs": [],
   "source": [
    "def vkep(mwd):\n",
    "    rwd = radius(mwd)\n",
    "    mwdg = mwd * MSOL\n",
    "    vkep = (G * mwdg / rwd) ** 0.5\n",
    "    return vkep"
   ]
  },
  {
   "cell_type": "markdown",
   "metadata": {},
   "source": [
    "How much of this circular velocity gets transferred into radial velocity? Explore claims here.  For now, we assume that the accretion velocity, $v_{\\rm acc}$ is low, of order 10 km s$^{-1}$."
   ]
  },
  {
   "cell_type": "code",
   "execution_count": 179,
   "metadata": {
    "collapsed": true
   },
   "outputs": [],
   "source": [
    "vacc = 10"
   ]
  },
  {
   "cell_type": "markdown",
   "metadata": {},
   "source": [
    "What about $f_{\\rm acc}$, the fraction of the white dwarf surface over which the accretion takes place?  This depends on the assumed structure of the boundary layer, and whether it remains optically thick or thin.  Several approximations of this exist in the literature.  The scale height of the disk, $z$, depends on the accretion rate. Patterson & Raymond (1985) explore the scale height of the disk under a number of conditions, and come up with expressions in the optically thick (high-Mdot) and optically thin (low M-dot) regimes.  These have been coded up below. The conditions under which these are relevant are unclear.\n",
    "\n",
    "We assume that accretion takes place over a band around the white dwarf of height 2$z$ and area 4$\\pi z R_{\\rm WD}$.  Since the surface area of the white dwarf is $4 \\pi R_{\\rm WD}^{2}$, then $f_{\\rm acc}$ is given by:\n",
    "\n",
    "$$f_{\\rm acc} = \\frac{z}{R_{\\rm WD}}.$$\n",
    "\n",
    "\n"
   ]
  },
  {
   "cell_type": "code",
   "execution_count": 180,
   "metadata": {
    "collapsed": true
   },
   "outputs": [],
   "source": [
    "def facc(mwd, mdot, mode=\"thick\"):\n",
    "    '''Returns an estimte of the accretion fraction facc for a thick or thin\n",
    "    boundary layer.  Facc is calculated as z/4r, where z is the scale height\n",
    "    of disk.  If mode = \"thick\", the disk scale height is assumed to be equal \n",
    "    to the disk scale height. If mode = \"thin\", use approximation of Tylenda\n",
    "    (1981).  See Patterson & Raymond, 1985 for details.'''\n",
    "    if mode.lower() == \"thick\":\n",
    "        z = (np.sqrt(radius(mwd)) ** 2.0 * \\\n",
    "            (6.96e-4 * (mwd/0.7) ** -0.85 * (mdot * MDOTGS / 1e18) ** -0.22 + \\\n",
    "            (7.29e-4 * (mwd/0.7) ** 0.8 * (mdot * MDOTGS / 1e18))))\n",
    "        facc = z / radius(mwd)\n",
    "        print(\"mode is {} and scale height z = {:03.1e} cm\".format(mode, z))\n",
    "        return facc\n",
    "    elif mode.lower() == \"thin\":\n",
    "        z = 3.85e8 * (mwd/0.7)**0.1 * (mdot * MDOTGS / 1e15)**-0.5\n",
    "        facc = z / radius(mwd)\n",
    "        print(\"mode is {} and scale height z = {:03.1e} cm\".format(mode, z))\n",
    "        return facc\n",
    "    else:\n",
    "        print(\"mode must be thick or thin\")"
   ]
  },
  {
   "cell_type": "markdown",
   "metadata": {},
   "source": [
    "### The boundary layer in RS Oph\n",
    "\n",
    "Let's consider the case of RS Oph, as we explored in the 2011 paper.  First, we'll set up some parameters for this system. We'll assume that the X-rays trace *only* the accretion rate through the optically thin portion of the boundary layer:"
   ]
  },
  {
   "cell_type": "code",
   "execution_count": 181,
   "metadata": {
    "collapsed": false
   },
   "outputs": [],
   "source": [
    "mwd = 1.35\n",
    "mdot = 2e-9\n",
    "mode = \"thin\""
   ]
  },
  {
   "cell_type": "markdown",
   "metadata": {},
   "source": [
    "For white dwarf of this mass, the maximum post-shock temperature should be:"
   ]
  },
  {
   "cell_type": "code",
   "execution_count": 182,
   "metadata": {
    "collapsed": false
   },
   "outputs": [
    {
     "name": "stdout",
     "output_type": "stream",
     "text": [
      "Shock temperature for 1.35 Msol white dwarf is 9.5e+08 K.\n",
      "Shock temperature for 1.35 Msol white dwarf is 81.5 keV.\n"
     ]
    }
   ],
   "source": [
    "print(\"Shock temperature for {} Msol white dwarf is {:03.1e} K.\".format(mwd, tshock(mwd, unit='K')))\n",
    "print(\"Shock temperature for {} Msol white dwarf is {:03.1f} keV.\".format(mwd, tshock(mwd, unit='keV')))"
   ]
  },
  {
   "cell_type": "markdown",
   "metadata": {},
   "source": [
    "#### Cooling by the still hot white dwarf\n",
    "\n",
    "First, let's consider the case that the still-hot, but not burning white dwarf surface is the source of Compton seed photons.  In this case, the luminosity of the radiation $L_{\\rm rad}$ is given by\n",
    "\n",
    "$$L_{\\rm rad} = 4 \\pi R_{\\rm WD}^{2} \\sigma T^{4},$$\n",
    "\n",
    "where T is constrained to be less than 395,000K (Nelson et al. 2011).  Since the radiation is from the entire white dwarf surface, $f_{\\rm rad}$ = 1."
   ]
  },
  {
   "cell_type": "code",
   "execution_count": 183,
   "metadata": {
    "collapsed": false
   },
   "outputs": [
    {
     "name": "stdout",
     "output_type": "stream",
     "text": [
      "Lrad = 1.3e+36\n"
     ]
    }
   ],
   "source": [
    "lrad = 4 * np.pi * radius(mwd)**2 * 5.67e-5 * 395000**4.0\n",
    "print(\"Lrad = {:03.1e}\".format(lrad))\n",
    "frad = 1.0"
   ]
  },
  {
   "cell_type": "markdown",
   "metadata": {},
   "source": [
    "The ratio of cooling via Compton scattering is:"
   ]
  },
  {
   "cell_type": "code",
   "execution_count": 184,
   "metadata": {
    "collapsed": false
   },
   "outputs": [
    {
     "name": "stdout",
     "output_type": "stream",
     "text": [
      "mode is thin and scale height z = 3.7e+07 cm\n",
      "The electron density is 9.6e+17 cm^-3.\n",
      "Cooling ratio = 3.4e+01\n"
     ]
    }
   ],
   "source": [
    "ratio = coolratio(nebl(mwd, mdot, facc(mwd, mdot, mode=\"thin\"), vacc),\n",
    "                  urad(lrad, mwd, frad),\n",
    "                  tshock(mwd, unit=\"K\"))\n",
    "print(\"Cooling ratio = {:03.1e}\".format(ratio))"
   ]
  },
  {
   "cell_type": "markdown",
   "metadata": {},
   "source": [
    "If the white dwarf has cooled to a lower temperature, say 100,000K, the ratio gets larger:"
   ]
  },
  {
   "cell_type": "code",
   "execution_count": 186,
   "metadata": {
    "collapsed": false
   },
   "outputs": [
    {
     "name": "stdout",
     "output_type": "stream",
     "text": [
      "Lrad = 5.3e+33\n",
      "mode is thin and scale height z = 3.7e+07 cm\n",
      "The electron density is 9.6e+17 cm^-3.\n",
      "Cooling ratio = 8.3e+03\n"
     ]
    }
   ],
   "source": [
    "lrad = 4 * np.pi * radius(mwd)**2 * 5.67e-5 * 100000**4.0\n",
    "print(\"Lrad = {:03.1e}\".format(lrad))\n",
    "ratio = coolratio(nebl(mwd, mdot, facc(mwd, mdot, mode=mode), vacc),\n",
    "                  urad(lrad, mwd, frad),\n",
    "                  tshock(mwd, unit=\"K\"))\n",
    "print(\"Cooling ratio = {:03.1e}\".format(ratio))"
   ]
  },
  {
   "cell_type": "markdown",
   "metadata": {},
   "source": [
    "\n",
    "#### Cooling by an optically thick boundary layer\n",
    "\n",
    "We assume here that a multizone boundary layer can exist, and that the optically thick portion would be towards the midplane.  In this case, the accretion luminosity will be given by\n",
    "\n",
    "$$L_{\\rm rad} = \\frac{GM_{\\rm WD} \\dot{M}_{\\rm thick}}{R_{\\rm WD}}$$\n",
    "\n",
    "where $\\dot{M}_{\\rm thick}$ is the accretion rate through the optically thick part of the boundary layer.\n"
   ]
  },
  {
   "cell_type": "code",
   "execution_count": 194,
   "metadata": {
    "collapsed": true
   },
   "outputs": [],
   "source": [
    "mdotthick = 3e-9"
   ]
  },
  {
   "cell_type": "code",
   "execution_count": 196,
   "metadata": {
    "collapsed": false
   },
   "outputs": [
    {
     "name": "stdout",
     "output_type": "stream",
     "text": [
      "Lrad = 1.3e+35\n",
      "mode is thin and scale height z = 3.7e+07 cm\n",
      "The electron density is 9.6e+17 cm^-3.\n",
      "mode is thick and scale height z = 2.2e+05 cm\n",
      "Cooling ratio = 2.8e-01\n"
     ]
    }
   ],
   "source": [
    "lrad = G * mwd * MSOL * mdotthick * MDOTGS / radius(mwd)\n",
    "print(\"Lrad = {:03.1e}\".format(lrad))\n",
    "ratio = coolratio(nebl(mwd, mdot, facc(mwd, mdot, mode=\"thin\"), vacc),\n",
    "                  urad(lrad, mwd, facc(mwd, mdotthick, mode=\"thick\")),\n",
    "                  tshock(mwd, unit=\"K\"))\n",
    "print(\"Cooling ratio = {:03.1e}\".format(ratio))"
   ]
  },
  {
   "cell_type": "markdown",
   "metadata": {},
   "source": [
    "### What about T CrB?\n",
    "\n",
    "Let's see what should happen in the case of T CrB."
   ]
  },
  {
   "cell_type": "code",
   "execution_count": 199,
   "metadata": {
    "collapsed": false
   },
   "outputs": [
    {
     "name": "stdout",
     "output_type": "stream",
     "text": [
      "Lrad = 4.9e+34\n",
      "mode is thin and scale height z = 5.1e+07 cm\n",
      "The electron density is 2.3e+17 cm^-3.\n",
      "mode is thick and scale height z = 3.5e+05 cm\n",
      "Cooling ratio = 5.4e-01\n"
     ]
    }
   ],
   "source": [
    "mwd = 1.2\n",
    "mdot = 1e-9\n",
    "mode = \"thin\"\n",
    "mdotthick = 2e-9\n",
    "lrad = G * mwd * MSOL * mdotthick * MDOTGS / radius(mwd)\n",
    "print(\"Lrad = {:03.1e}\".format(lrad))\n",
    "ratio = coolratio(nebl(mwd, mdot, facc(mwd, mdot, mode=\"thin\"), vacc),\n",
    "                  urad(lrad, mwd, facc(mwd, mdotthick, mode=\"thick\")),\n",
    "                  tshock(mwd, unit=\"K\"))\n",
    "print(\"Cooling ratio = {:03.1e}\".format(ratio))"
   ]
  },
  {
   "cell_type": "code",
   "execution_count": null,
   "metadata": {
    "collapsed": true
   },
   "outputs": [],
   "source": []
  }
 ],
 "metadata": {
  "anaconda-cloud": {},
  "kernelspec": {
   "display_name": "Python [ds30]",
   "language": "python",
   "name": "Python [ds30]"
  },
  "language_info": {
   "codemirror_mode": {
    "name": "ipython",
    "version": 2
   },
   "file_extension": ".py",
   "mimetype": "text/x-python",
   "name": "python",
   "nbconvert_exporter": "python",
   "pygments_lexer": "ipython2",
   "version": "2.7.11"
  }
 },
 "nbformat": 4,
 "nbformat_minor": 0
}
